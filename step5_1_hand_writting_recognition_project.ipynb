{
  "cells": [
    {
      "cell_type": "markdown",
      "metadata": {
        "id": "xx9Oh1BI7Thk"
      },
      "source": [
        "# Deep Neural Network with Keras for MNIST handwritten classification and recognition\n",
        "\n",
        "Welcome to this end-to-end project that will include various design logics that are required to create stable training and evaluation deep neural network models !\n",
        "\n",
        "We are going to employ the keras based python deep learning framework that readily offers complex mathematical layers that compute and form weights that are resultant of the data the model is viewing and learning from and then predict on new dataset.\n",
        "\n",
        "Keras automates large amount of mathetmatical design that helps to rapidly develop and protype datasets and ML logic\n",
        "\n",
        "![keras basic nn](https://user-images.githubusercontent.com/67789350/102743004-6dad1f00-437c-11eb-9c77-b1c97bceafaf.png)"
      ]
    },
    {
      "cell_type": "markdown",
      "metadata": {
        "id": "RgczKUsh-H5X"
      },
      "source": [
        "## Section O : Things to Know \n",
        "\n",
        "- Understand how to call in or import [Keras-Based](https://en.wikipedia.org/wiki/Keras) mathematical layers into your colab environment \n",
        "- Spend time on how a neural network is built and the logic to implement efficient and [Optimal Training Networks](https://en.wikipedia.org/wiki/Convolutional_neural_network) for image classification \n",
        "- Explore the official documentation about the [MNIST Dataset](https://en.wikipedia.org/wiki/MNIST_database)"
      ]
    },
    {
      "source": [
        "## Section D : Load the data in \n",
        "\n",
        "- Let's load in the dataset using Keras "
      ],
      "cell_type": "markdown",
      "metadata": {
        "id": "95Y4fWi_jgz7"
      }
    },
    {
      "cell_type": "code",
      "source": [
        "# imports for array-handling and plotting\n",
        "import numpy as np\n",
        "import matplotlib\n",
        "matplotlib.use('agg')\n",
        "import matplotlib.pyplot as plt\n",
        "\n",
        "# let's keep our keras backend tensorflow quiet\n",
        "import os\n",
        "os.environ['TF_CPP_MIN_LOG_LEVEL']='3'\n",
        "# for testing on CPU\n",
        "#os.environ['CUDA_VISIBLE_DEVICES'] = ''\n",
        "\n",
        "# keras imports for the dataset and building our neural network\n",
        "from keras.datasets import mnist\n",
        "from keras.models import Sequential, load_model\n",
        "from keras.layers.core import Dense, Dropout, Activation\n",
        "from keras.utils import np_utils"
      ],
      "metadata": {
        "id": "Gyelixr5lwMg"
      },
      "execution_count": 36,
      "outputs": []
    },
    {
      "cell_type": "code",
      "execution_count": 37,
      "metadata": {
        "colab": {
          "base_uri": "https://localhost:8080/"
        },
        "id": "ZyHK_Zt1jgz7",
        "outputId": "6501ee04-f79b-41ed-fc4d-91a17a401e32"
      },
      "outputs": [
        {
          "output_type": "stream",
          "name": "stdout",
          "text": [
            "Train: X = (60000, 28, 28), y = (60000,)\n",
            "Test: X = (10000, 28, 28), y = (10000,)\n"
          ]
        }
      ],
      "source": [
        "from keras.datasets import mnist \n",
        "\n",
        "(X_train, y_train),(X_test,y_test) = mnist.load_data()\n",
        "\n",
        "print('Train: X = {}, y = {}'.format(X_train.shape, y_train.shape)) \n",
        "print('Test: X = {}, y = {}'.format(X_test.shape, y_test.shape))"
      ]
    },
    {
      "cell_type": "markdown",
      "metadata": {
        "id": "i6lRzTMG890M"
      },
      "source": [
        "## Section I.I : Initial Data Indagation\n",
        "\n",
        "- Start off by understanding what MNIST Data is in more detail\n",
        "- Note down the dimensions and other practical information about the MNIST dataset\n",
        "- Load in the dataset into your Colab Environment [Using Keras Datasets]\n",
        "\n",
        "## Section I.II : Initial EDA\n",
        "\n",
        "- Explore the datasets descriptive statistics if needed\n",
        "- Create graphs of the counts of each class\n",
        "- Make deductions upon the class distribution "
      ]
    },
    {
      "cell_type": "code",
      "source": [
        "fig = plt.figure()\n",
        "for i in range(9):\n",
        "  plt.subplot(3,3,i+1)\n",
        "  plt.tight_layout()\n",
        "  plt.imshow(X_train[i], cmap='gray', interpolation='none')\n",
        "  plt.title(\"Digit: {}\".format(y_train[i]))\n",
        "  plt.xticks([])\n",
        "  plt.yticks([])\n",
        "fig"
      ],
      "metadata": {
        "colab": {
          "base_uri": "https://localhost:8080/",
          "height": 284
        },
        "id": "UMsevj_UmEIp",
        "outputId": "191dcc65-a3f9-4763-cb78-5242fa9bd46f"
      },
      "execution_count": 38,
      "outputs": [
        {
          "output_type": "execute_result",
          "data": {
            "text/plain": [
              "<Figure size 432x288 with 9 Axes>"
            ],
            "image/png": "[encoded data removed]"
          },
          "metadata": {},
          "execution_count": 38
        }
      ]
    },
    {
      "cell_type": "markdown",
      "metadata": {
        "id": "vyyI_722IvLG"
      },
      "source": [
        "## Section II : Data Preparation \n",
        "\n",
        "- Normalize the pixel value of the all images \n",
        "- Why is scaling of the pixel value required ? Make a note\n",
        "- Explain the difference between pre-processed images and the normalized images"
      ]
    },
    {
      "cell_type": "code",
      "source": [
        "fig = plt.figure()\n",
        "plt.subplot(2,1,1)\n",
        "plt.imshow(X_train[0], cmap='gray', interpolation='none')\n",
        "plt.title(\"Digit: {}\".format(y_train[0]))\n",
        "plt.xticks([])\n",
        "plt.yticks([])\n",
        "plt.subplot(2,1,2)\n",
        "plt.hist(X_train[0].reshape(784))\n",
        "plt.title(\"Pixel Value Distribution\")\n",
        "fig"
      ],
      "metadata": {
        "colab": {
          "base_uri": "https://localhost:8080/",
          "height": 281
        },
        "id": "J4TILtGcnIeg",
        "outputId": "efb86f73-8c77-4086-eded-3b5ac54be134"
      },
      "execution_count": 39,
      "outputs": [
        {
          "output_type": "execute_result",
          "data": {
            "text/plain": [
              "<Figure size 432x288 with 2 Axes>"
            ],
            "image/png": "[encoded data removed]"
          },
          "metadata": {},
          "execution_count": 39
        }
      ]
    },
    {
      "cell_type": "code",
      "source": [
        "# let's print the shape before we reshape and normalize\n",
        "print(\"X_train shape\", X_train.shape)\n",
        "print(\"y_train shape\", y_train.shape)\n",
        "print(\"X_test shape\", X_test.shape)\n",
        "print(\"y_test shape\", y_test.shape)\n",
        "\n",
        "# building the input vector from the 28x28 pixels\n",
        "X_train = X_train.reshape(60000, 784)\n",
        "X_test = X_test.reshape(10000, 784)\n",
        "X_train = X_train.astype('float32')\n",
        "X_test = X_test.astype('float32')\n",
        "\n",
        "# normalizing the data to help with the training\n",
        "X_train /= 255\n",
        "X_test /= 255\n",
        "\n",
        "# print the final input shape ready for training\n",
        "print(\"Train matrix shape\", X_train.shape)\n",
        "print(\"Test matrix shape\", X_test.shape)"
      ],
      "metadata": {
        "colab": {
          "base_uri": "https://localhost:8080/"
        },
        "id": "avjdalytnUTI",
        "outputId": "43be6492-dfba-4157-fa10-1d909add45a2"
      },
      "execution_count": 40,
      "outputs": [
        {
          "output_type": "stream",
          "name": "stdout",
          "text": [
            "X_train shape (60000, 28, 28)\n",
            "y_train shape (60000,)\n",
            "X_test shape (10000, 28, 28)\n",
            "y_test shape (10000,)\n",
            "Train matrix shape (60000, 784)\n",
            "Test matrix shape (10000, 784)\n"
          ]
        }
      ]
    },
    {
      "cell_type": "code",
      "source": [
        "print(np.unique(y_train, return_counts=True))"
      ],
      "metadata": {
        "colab": {
          "base_uri": "https://localhost:8080/"
        },
        "id": "poyZzLXfniEJ",
        "outputId": "906b2020-5ee2-4f01-9987-0efad702dcf7"
      },
      "execution_count": 41,
      "outputs": [
        {
          "output_type": "stream",
          "name": "stdout",
          "text": [
            "(array([0, 1, 2, 3, 4, 5, 6, 7, 8, 9], dtype=uint8), array([5923, 6742, 5958, 6131, 5842, 5421, 5918, 6265, 5851, 5949]))\n"
          ]
        }
      ]
    },
    {
      "cell_type": "code",
      "source": [
        "# one-hot encoding using keras' numpy-related utilities\n",
        "n_classes = 10\n",
        "print(\"Shape before one-hot encoding: \", y_train.shape)\n",
        "Y_train = np_utils.to_categorical(y_train, n_classes)\n",
        "Y_test = np_utils.to_categorical(y_test, n_classes)\n",
        "print(\"Shape after one-hot encoding: \", Y_train.shape)"
      ],
      "metadata": {
        "colab": {
          "base_uri": "https://localhost:8080/"
        },
        "id": "P42rQ_nFnqnQ",
        "outputId": "109a9841-2040-4bc7-adc5-a54555263cc8"
      },
      "execution_count": 42,
      "outputs": [
        {
          "output_type": "stream",
          "name": "stdout",
          "text": [
            "Shape before one-hot encoding:  (60000,)\n",
            "Shape after one-hot encoding:  (60000, 10)\n"
          ]
        }
      ]
    },
    {
      "cell_type": "markdown",
      "metadata": {
        "id": "QkIDvJroJnZc"
      },
      "source": [
        "## Section III : Model Construction \n",
        "\n",
        "- What sort of Neural Network would you employ for this problem statement ?\n",
        "- Write down the skeleton flow of the model \n",
        "- Create a baseline model \n",
        "- Train the model"
      ]
    },
    {
      "cell_type": "code",
      "source": [
        "# building a linear stack of layers with the sequential model\n",
        "model = Sequential()\n",
        "model.add(Dense(512, input_shape=(784,)))\n",
        "model.add(Activation('relu'))                            \n",
        "model.add(Dropout(0.2))\n",
        "\n",
        "model.add(Dense(512))\n",
        "model.add(Activation('relu'))\n",
        "model.add(Dropout(0.2))\n",
        "\n",
        "model.add(Dense(10))\n",
        "model.add(Activation('softmax'))"
      ],
      "metadata": {
        "id": "PJex6g0gnxMw"
      },
      "execution_count": 43,
      "outputs": []
    },
    {
      "cell_type": "code",
      "source": [
        "# compiling the sequential model\n",
        "model.compile(loss='categorical_crossentropy', metrics=['accuracy'], optimizer='adam')"
      ],
      "metadata": {
        "id": "9HsrhrLPn4XA"
      },
      "execution_count": 44,
      "outputs": []
    },
    {
      "cell_type": "code",
      "source": [
        "# training the model and saving metrics in history\n",
        "history = model.fit(X_train, Y_train,\n",
        "           batch_size=128, epochs=20,\n",
        "           verbose=2,\n",
        "           validation_data=(X_test, Y_test))\n",
        "\n",
        "#plotting the metrics\n",
        "fig = plt.figure()\n",
        "plt.subplot(2,1,1)\n",
        "plt.plot(history.history['accuracy'])\n",
        "plt.plot(history.history['val_accuracy'])\n",
        "plt.title('model accuracy')\n",
        "plt.ylabel('accuracy')\n",
        "plt.xlabel('epoch')\n",
        "plt.legend(['train', 'test'], loc='lower right')\n",
        "\n",
        "plt.subplot(2,1,2)\n",
        "plt.plot(history.history['loss'])\n",
        "plt.plot(history.history['val_loss'])\n",
        "plt.title('model loss')\n",
        "plt.ylabel('loss')\n",
        "plt.xlabel('epoch')\n",
        "plt.legend(['train', 'test'], loc='upper right')\n",
        "\n",
        "plt.tight_layout()\n",
        "\n",
        "fig"
      ],
      "metadata": {
        "colab": {
          "base_uri": "https://localhost:8080/",
          "height": 991
        },
        "id": "mKUfiZ_Rn9oJ",
        "outputId": "b1a78ffa-3fbc-4935-b18e-325b03a134a4"
      },
      "execution_count": 57,
      "outputs": [
        {
          "output_type": "stream",
          "name": "stdout",
          "text": [
            "Epoch 1/20\n",
            "469/469 - 7s - loss: 0.0092 - accuracy: 0.9972 - val_loss: 0.1056 - val_accuracy: 0.9842 - 7s/epoch - 15ms/step\n",
            "Epoch 2/20\n",
            "469/469 - 7s - loss: 0.0080 - accuracy: 0.9973 - val_loss: 0.1049 - val_accuracy: 0.9837 - 7s/epoch - 15ms/step\n",
            "Epoch 3/20\n",
            "469/469 - 7s - loss: 0.0116 - accuracy: 0.9969 - val_loss: 0.1001 - val_accuracy: 0.9838 - 7s/epoch - 15ms/step\n",
            "Epoch 4/20\n",
            "469/469 - 7s - loss: 0.0127 - accuracy: 0.9965 - val_loss: 0.1092 - val_accuracy: 0.9824 - 7s/epoch - 15ms/step\n",
            "Epoch 5/20\n",
            "469/469 - 7s - loss: 0.0100 - accuracy: 0.9972 - val_loss: 0.1000 - val_accuracy: 0.9840 - 7s/epoch - 15ms/step\n",
            "Epoch 6/20\n",
            "469/469 - 7s - loss: 0.0094 - accuracy: 0.9972 - val_loss: 0.0995 - val_accuracy: 0.9848 - 7s/epoch - 15ms/step\n",
            "Epoch 7/20\n",
            "469/469 - 7s - loss: 0.0070 - accuracy: 0.9977 - val_loss: 0.1004 - val_accuracy: 0.9840 - 7s/epoch - 15ms/step\n",
            "Epoch 8/20\n",
            "469/469 - 7s - loss: 0.0065 - accuracy: 0.9980 - val_loss: 0.0950 - val_accuracy: 0.9846 - 7s/epoch - 15ms/step\n",
            "Epoch 9/20\n",
            "469/469 - 7s - loss: 0.0086 - accuracy: 0.9975 - val_loss: 0.0975 - val_accuracy: 0.9843 - 7s/epoch - 15ms/step\n",
            "Epoch 10/20\n",
            "469/469 - 7s - loss: 0.0101 - accuracy: 0.9969 - val_loss: 0.1096 - val_accuracy: 0.9844 - 7s/epoch - 15ms/step\n",
            "Epoch 11/20\n",
            "469/469 - 7s - loss: 0.0111 - accuracy: 0.9967 - val_loss: 0.0965 - val_accuracy: 0.9847 - 7s/epoch - 15ms/step\n",
            "Epoch 12/20\n",
            "469/469 - 7s - loss: 0.0071 - accuracy: 0.9978 - val_loss: 0.1143 - val_accuracy: 0.9848 - 7s/epoch - 15ms/step\n",
            "Epoch 13/20\n",
            "469/469 - 7s - loss: 0.0093 - accuracy: 0.9973 - val_loss: 0.1139 - val_accuracy: 0.9847 - 7s/epoch - 16ms/step\n",
            "Epoch 14/20\n",
            "469/469 - 9s - loss: 0.0110 - accuracy: 0.9969 - val_loss: 0.1037 - val_accuracy: 0.9842 - 9s/epoch - 19ms/step\n",
            "Epoch 15/20\n",
            "469/469 - 9s - loss: 0.0082 - accuracy: 0.9976 - val_loss: 0.1078 - val_accuracy: 0.9856 - 9s/epoch - 19ms/step\n",
            "Epoch 16/20\n",
            "469/469 - 7s - loss: 0.0101 - accuracy: 0.9976 - val_loss: 0.1126 - val_accuracy: 0.9849 - 7s/epoch - 15ms/step\n",
            "Epoch 17/20\n",
            "469/469 - 8s - loss: 0.0100 - accuracy: 0.9973 - val_loss: 0.1042 - val_accuracy: 0.9861 - 8s/epoch - 18ms/step\n",
            "Epoch 18/20\n",
            "469/469 - 7s - loss: 0.0072 - accuracy: 0.9978 - val_loss: 0.1165 - val_accuracy: 0.9850 - 7s/epoch - 15ms/step\n",
            "Epoch 19/20\n",
            "469/469 - 7s - loss: 0.0071 - accuracy: 0.9980 - val_loss: 0.0996 - val_accuracy: 0.9867 - 7s/epoch - 15ms/step\n",
            "Epoch 20/20\n",
            "469/469 - 7s - loss: 0.0067 - accuracy: 0.9980 - val_loss: 0.1103 - val_accuracy: 0.9847 - 7s/epoch - 15ms/step\n"
          ]
        },
        {
          "output_type": "execute_result",
          "data": {
            "text/plain": [
              "<Figure size 432x288 with 2 Axes>"
            ],
            "image/png": "[encoded data removed]"
          },
          "metadata": {},
          "execution_count": 57
        }
      ]
    },
    {
      "cell_type": "markdown",
      "metadata": {
        "id": "-R0hSkOZLats"
      },
      "source": [
        "## Section IV : Model Evaluation \n",
        "\n",
        "- It is recommeded to to use Kfolds to evaluate your model, what other validation process could you employ ? \n",
        "- What would be the best value for K and why for this baseline model \n",
        "- Evaluate the model accordingly and make a note of it's performance with respect to it's accuracy"
      ]
    },
    {
      "cell_type": "code",
      "source": [
        "scores = model.evaluate(X_test, Y_test, verbose=0)\n",
        "print(\"Baseline Error: %.2f%%\" % (100-scores[1]*100))\n",
        "print(scores)"
      ],
      "metadata": {
        "colab": {
          "base_uri": "https://localhost:8080/"
        },
        "id": "LzHhp7H60y6R",
        "outputId": "c88e1f20-6a59-43be-e5e4-33f02e68a5d5"
      },
      "execution_count": 58,
      "outputs": [
        {
          "output_type": "stream",
          "name": "stdout",
          "text": [
            "Baseline Error: 1.53%\n",
            "[0.11033503711223602, 0.9847000241279602]\n"
          ]
        }
      ]
    },
    {
      "cell_type": "code",
      "source": [
        "from google.colab import drive\n",
        "drive.mount('/content/drive')"
      ],
      "metadata": {
        "id": "3mN2CnJnrE12"
      },
      "execution_count": null,
      "outputs": []
    },
    {
      "cell_type": "markdown",
      "source": [
        "An acceptable accuracy level has been reached, so no further procedure is needed!"
      ],
      "metadata": {
        "id": "_9znuZ7WAoNS"
      }
    }
  ],
  "metadata": {
    "colab": {
      "name": "step5_1_hand_writting_recognition_project.ipynb",
      "provenance": []
    },
    "kernelspec": {
      "display_name": "Python 3",
      "language": "python",
      "name": "python3"
    },
    "language_info": {
      "codemirror_mode": {
        "name": "ipython",
        "version": 3
      },
      "file_extension": ".py",
      "mimetype": "text/x-python",
      "name": "python",
      "nbconvert_exporter": "python",
      "pygments_lexer": "ipython3",
      "version": "3.7.6"
    }
  },
  "nbformat": 4,
  "nbformat_minor": 0
}