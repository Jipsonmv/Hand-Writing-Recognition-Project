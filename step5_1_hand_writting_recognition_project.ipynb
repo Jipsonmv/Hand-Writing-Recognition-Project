{
  "cells": [
    {
      "cell_type": "markdown",
      "metadata": {
        "id": "view-in-github",
        "colab_type": "text"
      },
      "source": [
        "<a href=\"https://colab.research.google.com/github/Jipsonmv/Hand-Writting-Recognition-Project/blob/main/step5_1_hand_writting_recognition_project.ipynb\" target=\"_parent\"><img src=\"https://colab.research.google.com/assets/colab-badge.svg\" alt=\"Open In Colab\"/></a>"
      ]
    },
    {
      "cell_type": "markdown",
      "metadata": {
        "id": "xx9Oh1BI7Thk"
      },
      "source": [
        "# Deep Neural Network with Keras for MNIST handwritten classification and recognition\n",
        "\n",
        "Welcome to this end-to-end project that will include various design logics that are required to create stable training and evaluation deep neural network models !\n",
        "\n",
        "We are going to employ the keras based python deep learning framework that readily offers complex mathematical layers that compute and form weights that are resultant of the data the model is viewing and learning from and then predict on new dataset.\n",
        "\n",
        "Keras automates large amount of mathetmatical design that helps to rapidly develop and protype datasets and ML logic\n",
        "\n",
        "![keras basic nn](https://user-images.githubusercontent.com/67789350/102743004-6dad1f00-437c-11eb-9c77-b1c97bceafaf.png)"
      ]
    },
    {
      "cell_type": "markdown",
      "metadata": {
        "id": "RgczKUsh-H5X"
      },
      "source": [
        "## Section O : Things to Know \n",
        "\n",
        "- Understand how to call in or import [Keras-Based](https://en.wikipedia.org/wiki/Keras) mathematical layers into your colab environment \n",
        "- Spend time on how a neural network is built and the logic to implement efficient and [Optimal Training Networks](https://en.wikipedia.org/wiki/Convolutional_neural_network) for image classification \n",
        "- Explore the official documentation about the [MNIST Dataset](https://en.wikipedia.org/wiki/MNIST_database)"
      ]
    },
    {
      "source": [
        "## Section D : Load the data in \n",
        "\n",
        "- Let's load in the dataset using Keras "
      ],
      "cell_type": "markdown",
      "metadata": {
        "id": "95Y4fWi_jgz7"
      }
    },
    {
      "cell_type": "code",
      "source": [
        "# imports for array-handling and plotting\n",
        "import numpy as np\n",
        "import matplotlib\n",
        "matplotlib.use('agg')\n",
        "import matplotlib.pyplot as plt\n",
        "\n",
        "# let's keep our keras backend tensorflow quiet\n",
        "import os\n",
        "os.environ['TF_CPP_MIN_LOG_LEVEL']='3'\n",
        "# for testing on CPU\n",
        "#os.environ['CUDA_VISIBLE_DEVICES'] = ''\n",
        "\n",
        "# keras imports for the dataset and building our neural network\n",
        "from keras.datasets import mnist\n",
        "from keras.models import Sequential, load_model\n",
        "from keras.layers.core import Dense, Dropout, Activation\n",
        "from keras.utils import np_utils"
      ],
      "metadata": {
        "id": "Gyelixr5lwMg"
      },
      "execution_count": 48,
      "outputs": []
    },
    {
      "cell_type": "code",
      "execution_count": 49,
      "metadata": {
        "colab": {
          "base_uri": "https://localhost:8080/"
        },
        "id": "ZyHK_Zt1jgz7",
        "outputId": "6ba582ef-78df-428d-a902-df101ea46b58"
      },
      "outputs": [
        {
          "output_type": "stream",
          "name": "stdout",
          "text": [
            "Train: X = (60000, 28, 28), y = (60000,)\n",
            "Test: X = (10000, 28, 28), y = (10000,)\n"
          ]
        }
      ],
      "source": [
        "from keras.datasets import mnist \n",
        "\n",
        "(X_train, y_train),(X_test,y_test) = mnist.load_data()\n",
        "\n",
        "print('Train: X = {}, y = {}'.format(X_train.shape, y_train.shape)) \n",
        "print('Test: X = {}, y = {}'.format(X_test.shape, y_test.shape))"
      ]
    },
    {
      "cell_type": "markdown",
      "metadata": {
        "id": "i6lRzTMG890M"
      },
      "source": [
        "## Section I.I : Initial Data Indagation\n",
        "\n",
        "- Start off by understanding what MNIST Data is in more detail\n",
        "- Note down the dimensions and other practical information about the MNIST dataset\n",
        "- Load in the dataset into your Colab Environment [Using Keras Datasets]\n",
        "\n",
        "## Section I.II : Initial EDA\n",
        "\n",
        "- Explore the datasets descriptive statistics if needed\n",
        "- Create graphs of the counts of each class\n",
        "- Make deductions upon the class distribution "
      ]
    },
    {
      "cell_type": "code",
      "source": [
        "fig = plt.figure()\n",
        "for i in range(9):\n",
        "  plt.subplot(3,3,i+1)\n",
        "  plt.tight_layout()\n",
        "  plt.imshow(X_train[i], cmap='gray', interpolation='none')\n",
        "  plt.title(\"Digit: {}\".format(y_train[i]))\n",
        "  plt.xticks([])\n",
        "  plt.yticks([])\n",
        "fig"
      ],
      "metadata": {
        "colab": {
          "base_uri": "https://localhost:8080/",
          "height": 551
        },
        "id": "UMsevj_UmEIp",
        "outputId": "1c483336-6989-45e9-bb65-14d460fc249d"
      },
      "execution_count": 50,
      "outputs": [
        {
          "output_type": "execute_result",
          "data": {
            "text/plain": [
              "<Figure size 432x288 with 9 Axes>"
            ],
            "image/png": "[encoded data removed]"
          },
          "metadata": {},
          "execution_count": 50
        },
        {
          "output_type": "display_data",
          "data": {
            "text/plain": [
              "<Figure size 432x288 with 9 Axes>"
            ],
            "image/png": "[encoded data removed]"
          },
          "metadata": {}
        }
      ]
    },
    {
      "cell_type": "markdown",
      "metadata": {
        "id": "vyyI_722IvLG"
      },
      "source": [
        "## Section II : Data Preparation \n",
        "\n",
        "- Normalize the pixel value of the all images \n",
        "- Why is scaling of the pixel value required ? Make a note\n",
        "- Explain the difference between pre-processed images and the normalized images"
      ]
    },
    {
      "cell_type": "code",
      "source": [
        "fig = plt.figure()\n",
        "plt.subplot(2,1,1)\n",
        "plt.imshow(X_train[0], cmap='gray', interpolation='none')\n",
        "plt.title(\"Digit: {}\".format(y_train[0]))\n",
        "plt.xticks([])\n",
        "plt.yticks([])\n",
        "plt.subplot(2,1,2)\n",
        "plt.hist(X_train[0].reshape(784))\n",
        "plt.title(\"Pixel Value Distribution\")\n",
        "fig"
      ],
      "metadata": {
        "colab": {
          "base_uri": "https://localhost:8080/",
          "height": 545
        },
        "id": "J4TILtGcnIeg",
        "outputId": "06df82da-c4b3-4a2f-ded9-3af9cd9cdfda"
      },
      "execution_count": 51,
      "outputs": [
        {
          "output_type": "execute_result",
          "data": {
            "text/plain": [
              "<Figure size 432x288 with 2 Axes>"
            ],
            "image/png": "[encoded data removed]"
          },
          "metadata": {},
          "execution_count": 51
        },
        {
          "output_type": "display_data",
          "data": {
            "text/plain": [
              "<Figure size 432x288 with 2 Axes>"
            ],
            "image/png": "[encoded data removed]"
          },
          "metadata": {
            "needs_background": "light"
          }
        }
      ]
    },
    {
      "cell_type": "code",
      "source": [
        "# let's print the shape before we reshape and normalize\n",
        "print(\"X_train shape\", X_train.shape)\n",
        "print(\"y_train shape\", y_train.shape)\n",
        "print(\"X_test shape\", X_test.shape)\n",
        "print(\"y_test shape\", y_test.shape)\n",
        "\n",
        "X_train = X_train.astype('float32')\n",
        "X_test = X_test.astype('float32')\n",
        "\n",
        "# normalizing the data to help with the training\n",
        "X_train /= 255\n",
        "X_test /= 255\n",
        "\n",
        "# print the final input shape ready for training\n",
        "print(\"Train matrix shape\", X_train.shape)\n",
        "print(\"Test matrix shape\", X_test.shape)"
      ],
      "metadata": {
        "colab": {
          "base_uri": "https://localhost:8080/"
        },
        "id": "avjdalytnUTI",
        "outputId": "7f07c921-85f4-4784-d57d-66a758aa24ae"
      },
      "execution_count": 52,
      "outputs": [
        {
          "output_type": "stream",
          "name": "stdout",
          "text": [
            "X_train shape (60000, 28, 28)\n",
            "y_train shape (60000,)\n",
            "X_test shape (10000, 28, 28)\n",
            "y_test shape (10000,)\n",
            "Train matrix shape (60000, 28, 28)\n",
            "Test matrix shape (10000, 28, 28)\n"
          ]
        }
      ]
    },
    {
      "cell_type": "code",
      "source": [
        "plt.imshow(X_test[15])"
      ],
      "metadata": {
        "colab": {
          "base_uri": "https://localhost:8080/",
          "height": 282
        },
        "id": "6Xg3jWHLiPYV",
        "outputId": "2dd3bee3-45c2-4633-d00e-aeadb0c3eb08"
      },
      "execution_count": 53,
      "outputs": [
        {
          "output_type": "execute_result",
          "data": {
            "text/plain": [
              "<matplotlib.image.AxesImage at 0x7f2b3d2e2350>"
            ]
          },
          "metadata": {},
          "execution_count": 53
        },
        {
          "output_type": "display_data",
          "data": {
            "text/plain": [
              "<Figure size 432x288 with 1 Axes>"
            ],
            "image/png": "[encoded data removed]"
          },
          "metadata": {
            "needs_background": "light"
          }
        }
      ]
    },
    {
      "cell_type": "code",
      "source": [
        "print(np.unique(y_train, return_counts=True))"
      ],
      "metadata": {
        "colab": {
          "base_uri": "https://localhost:8080/"
        },
        "id": "poyZzLXfniEJ",
        "outputId": "8cc1f657-9588-4d01-9f88-89e4f0231f43"
      },
      "execution_count": 54,
      "outputs": [
        {
          "output_type": "stream",
          "name": "stdout",
          "text": [
            "(array([0, 1, 2, 3, 4, 5, 6, 7, 8, 9], dtype=uint8), array([5923, 6742, 5958, 6131, 5842, 5421, 5918, 6265, 5851, 5949]))\n"
          ]
        }
      ]
    },
    {
      "cell_type": "markdown",
      "metadata": {
        "id": "QkIDvJroJnZc"
      },
      "source": [
        "## Section III : Model Construction \n",
        "\n",
        "- What sort of Neural Network would you employ for this problem statement ?\n",
        "- Write down the skeleton flow of the model \n",
        "- Create a baseline model \n",
        "- Train the model"
      ]
    },
    {
      "cell_type": "code",
      "source": [
        "import tensorflow as tf"
      ],
      "metadata": {
        "id": "C5kb_MC1jYPv"
      },
      "execution_count": 56,
      "outputs": []
    },
    {
      "cell_type": "code",
      "source": [
        "# building a linear stack of layers with the sequential model\n",
        "model = Sequential()\n",
        "model.add(tf.keras.layers.Conv2D(filters=32, kernel_size=3, activation='relu', input_shape=(28,28,1)))\n",
        "model.add(tf.keras.layers.MaxPool2D((2,2)))\n",
        "\n",
        "model.add(tf.keras.layers.Conv2D(filters=48, kernel_size=3, activation='relu'))\n",
        "model.add(tf.keras.layers.MaxPool2D((2,2)))\n",
        "\n",
        "model.add(Dropout(0.2))\n",
        "\n",
        "model.add(tf.keras.layers.Flatten())\n",
        "\n",
        "model.add(tf.keras.layers.Dense(units=512, activation= 'relu'))\n",
        "\n",
        "model.add(tf.keras.layers.Dense(units=10, activation= 'softmax'))"
      ],
      "metadata": {
        "id": "PJex6g0gnxMw"
      },
      "execution_count": 57,
      "outputs": []
    },
    {
      "cell_type": "code",
      "source": [
        "model.summary()"
      ],
      "metadata": {
        "colab": {
          "base_uri": "https://localhost:8080/"
        },
        "id": "Qhgodtdfk7Te",
        "outputId": "27a635e2-4301-4ccc-dd29-690fea023803"
      },
      "execution_count": 58,
      "outputs": [
        {
          "output_type": "stream",
          "name": "stdout",
          "text": [
            "Model: \"sequential_5\"\n",
            "_________________________________________________________________\n",
            " Layer (type)                Output Shape              Param #   \n",
            "=================================================================\n",
            " conv2d_2 (Conv2D)           (None, 26, 26, 32)        320       \n",
            "                                                                 \n",
            " max_pooling2d_2 (MaxPooling  (None, 13, 13, 32)       0         \n",
            " 2D)                                                             \n",
            "                                                                 \n",
            " conv2d_3 (Conv2D)           (None, 11, 11, 48)        13872     \n",
            "                                                                 \n",
            " max_pooling2d_3 (MaxPooling  (None, 5, 5, 48)         0         \n",
            " 2D)                                                             \n",
            "                                                                 \n",
            " dropout_7 (Dropout)         (None, 5, 5, 48)          0         \n",
            "                                                                 \n",
            " flatten_1 (Flatten)         (None, 1200)              0         \n",
            "                                                                 \n",
            " dense_12 (Dense)            (None, 512)               614912    \n",
            "                                                                 \n",
            " dense_13 (Dense)            (None, 10)                5130      \n",
            "                                                                 \n",
            "=================================================================\n",
            "Total params: 634,234\n",
            "Trainable params: 634,234\n",
            "Non-trainable params: 0\n",
            "_________________________________________________________________\n"
          ]
        }
      ]
    },
    {
      "cell_type": "code",
      "source": [
        "# compiling the sequential model\n",
        "model.compile(optimizer='adam', loss=\"sparse_categorical_crossentropy\", metrics=['accuracy'])"
      ],
      "metadata": {
        "id": "9HsrhrLPn4XA"
      },
      "execution_count": 59,
      "outputs": []
    },
    {
      "cell_type": "code",
      "source": [
        "# training the model and saving metrics in history\n",
        "history = model.fit(X_train,y_train,epochs=10, batch_size=128, validation_split=0.1 )"
      ],
      "metadata": {
        "colab": {
          "base_uri": "https://localhost:8080/"
        },
        "id": "mKUfiZ_Rn9oJ",
        "outputId": "15127839-5696-4a90-c734-b49e87af6176"
      },
      "execution_count": 61,
      "outputs": [
        {
          "output_type": "stream",
          "name": "stdout",
          "text": [
            "Epoch 1/10\n",
            "422/422 [==============================] - 46s 107ms/step - loss: 0.1989 - accuracy: 0.0990 - val_loss: 0.0625 - val_accuracy: 0.0960\n",
            "Epoch 2/10\n",
            "422/422 [==============================] - 43s 102ms/step - loss: 0.0616 - accuracy: 0.0989 - val_loss: 0.0418 - val_accuracy: 0.0967\n",
            "Epoch 3/10\n",
            "422/422 [==============================] - 43s 102ms/step - loss: 0.0427 - accuracy: 0.0991 - val_loss: 0.0362 - val_accuracy: 0.0970\n",
            "Epoch 4/10\n",
            "422/422 [==============================] - 43s 102ms/step - loss: 0.0329 - accuracy: 0.0988 - val_loss: 0.0380 - val_accuracy: 0.0975\n",
            "Epoch 5/10\n",
            "422/422 [==============================] - 45s 106ms/step - loss: 0.0267 - accuracy: 0.0991 - val_loss: 0.0382 - val_accuracy: 0.0965\n",
            "Epoch 6/10\n",
            "422/422 [==============================] - 43s 102ms/step - loss: 0.0219 - accuracy: 0.0989 - val_loss: 0.0339 - val_accuracy: 0.0975\n",
            "Epoch 7/10\n",
            "422/422 [==============================] - 43s 102ms/step - loss: 0.0187 - accuracy: 0.0990 - val_loss: 0.0301 - val_accuracy: 0.0970\n",
            "Epoch 8/10\n",
            "422/422 [==============================] - 45s 106ms/step - loss: 0.0136 - accuracy: 0.0989 - val_loss: 0.0363 - val_accuracy: 0.0970\n",
            "Epoch 9/10\n",
            "422/422 [==============================] - 43s 102ms/step - loss: 0.0136 - accuracy: 0.0988 - val_loss: 0.0322 - val_accuracy: 0.0975\n",
            "Epoch 10/10\n",
            "422/422 [==============================] - 43s 101ms/step - loss: 0.0123 - accuracy: 0.0990 - val_loss: 0.0340 - val_accuracy: 0.0970\n"
          ]
        }
      ]
    },
    {
      "cell_type": "code",
      "source": [
        "fig = plt.figure()\n",
        "plt.subplot(2,1,1)\n",
        "plt.plot(history.history['accuracy'])\n",
        "plt.plot(history.history['val_accuracy'])\n",
        "plt.title('model accuracy')\n",
        "plt.ylabel('accuracy')\n",
        "plt.xlabel('epoch')\n",
        "plt.legend(['train', 'test'], loc='lower right')\n",
        "\n",
        "plt.subplot(2,1,2)\n",
        "plt.plot(history.history['loss'])\n",
        "plt.plot(history.history['val_loss'])\n",
        "plt.title('model loss')\n",
        "plt.ylabel('loss')\n",
        "plt.xlabel('epoch')\n",
        "plt.legend(['train', 'test'], loc='upper right')\n",
        "\n",
        "plt.tight_layout()\n",
        "\n",
        "fig"
      ],
      "metadata": {
        "colab": {
          "base_uri": "https://localhost:8080/",
          "height": 577
        },
        "id": "6bKebf4zpHDQ",
        "outputId": "9cbe0ebe-1af2-423d-ca5b-90187ea56ca8"
      },
      "execution_count": 65,
      "outputs": [
        {
          "output_type": "execute_result",
          "data": {
            "text/plain": [
              "<Figure size 432x288 with 2 Axes>"
            ],
            "image/png": "[encoded data removed]"
          },
          "metadata": {},
          "execution_count": 65
        },
        {
          "output_type": "display_data",
          "data": {
            "text/plain": [
              "<Figure size 432x288 with 2 Axes>"
            ],
            "image/png": "[encoded data removed]"
          },
          "metadata": {
            "needs_background": "light"
          }
        }
      ]
    },
    {
      "cell_type": "markdown",
      "metadata": {
        "id": "-R0hSkOZLats"
      },
      "source": [
        "## Section IV : Model Evaluation \n",
        "\n",
        "- It is recommeded to to use Kfolds to evaluate your model, what other validation process could you employ ? \n",
        "- What would be the best value for K and why for this baseline model \n",
        "- Evaluate the model accordingly and make a note of it's performance with respect to it's accuracy"
      ]
    },
    {
      "cell_type": "code",
      "source": [
        "scores = model.evaluate(X_test, y_test, verbose=0)\n",
        "print(\"Baseline Error: %.2f%%\" % (100-scores[1]*100))\n",
        "print(scores)"
      ],
      "metadata": {
        "colab": {
          "base_uri": "https://localhost:8080/"
        },
        "id": "LzHhp7H60y6R",
        "outputId": "d63ea3cd-2e8a-4580-a0cf-4d8fdaf2dcd1"
      },
      "execution_count": 62,
      "outputs": [
        {
          "output_type": "stream",
          "name": "stdout",
          "text": [
            "Baseline Error: 90.25%\n",
            "[0.0266858097165823, 0.09749999642372131]\n"
          ]
        }
      ]
    },
    {
      "cell_type": "markdown",
      "source": [
        "An acceptable accuracy level has been reached, so no further procedure is needed!"
      ],
      "metadata": {
        "id": "_9znuZ7WAoNS"
      }
    },
    {
      "cell_type": "code",
      "source": [
        "plt.imshow(X_test[15])\n",
        "pred = model.predict(X_test)\n",
        "print(\"Model prediction is\", np.argmax(pred[15]))"
      ],
      "metadata": {
        "colab": {
          "base_uri": "https://localhost:8080/",
          "height": 282
        },
        "id": "FEoJftRmf4fz",
        "outputId": "f5632365-2af4-4f22-c610-f475d10da187"
      },
      "execution_count": 63,
      "outputs": [
        {
          "output_type": "stream",
          "name": "stdout",
          "text": [
            "Model prediction is 5\n"
          ]
        },
        {
          "output_type": "display_data",
          "data": {
            "text/plain": [
              "<Figure size 432x288 with 1 Axes>"
            ],
            "image/png": "[encoded data removed]"
          },
          "metadata": {
            "needs_background": "light"
          }
        }
      ]
    },
    {
      "cell_type": "code",
      "source": [
        "plt.imshow(X_test[150])\n",
        "pred = model.predict(X_test)\n",
        "print(\"Model prediction is\", np.argmax(pred[150]))"
      ],
      "metadata": {
        "colab": {
          "base_uri": "https://localhost:8080/",
          "height": 282
        },
        "id": "Q8EpKMPao3YF",
        "outputId": "a0ad7295-1a80-4a0a-9eac-b0915d545c13"
      },
      "execution_count": 64,
      "outputs": [
        {
          "output_type": "stream",
          "name": "stdout",
          "text": [
            "Model prediction is 9\n"
          ]
        },
        {
          "output_type": "display_data",
          "data": {
            "text/plain": [
              "<Figure size 432x288 with 1 Axes>"
            ],
            "image/png": "[encoded data removed]"
          },
          "metadata": {
            "needs_background": "light"
          }
        }
      ]
    }
  ],
  "metadata": {
    "colab": {
      "name": "step5_1_hand_writting_recognition_project.ipynb",
      "provenance": [],
      "include_colab_link": true
    },
    "kernelspec": {
      "display_name": "Python 3",
      "language": "python",
      "name": "python3"
    },
    "language_info": {
      "codemirror_mode": {
        "name": "ipython",
        "version": 3
      },
      "file_extension": ".py",
      "mimetype": "text/x-python",
      "name": "python",
      "nbconvert_exporter": "python",
      "pygments_lexer": "ipython3",
      "version": "3.7.6"
    }
  },
  "nbformat": 4,
  "nbformat_minor": 0
}